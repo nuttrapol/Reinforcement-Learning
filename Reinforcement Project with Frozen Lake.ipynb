{
 "cells": [
  {
   "cell_type": "markdown",
   "metadata": {},
   "source": [
    "# Reinforcement Learning on FrozenLake "
   ]
  },
  {
   "cell_type": "raw",
   "metadata": {},
   "source": [
    "Name: 'FrozenLake-v0' and 'FrozenLake8x8-v0'\n",
    "\n",
    "Rule of the game: \n",
    "\n",
    "The grids are as shown below:\n",
    "\n",
    "4x4:\n",
    "SFFF\n",
    "FHFH\n",
    "FFFH\n",
    "HFFG\n",
    "\n",
    "8x8:\n",
    "SFFFFFFF\n",
    "FFFFFFFF\n",
    "FFFHFFFF\n",
    "FFFFFHFF\n",
    "FFFHFFFF\n",
    "FHHFFFHF\n",
    "FHFFHFHF\n",
    "FFFHFFFG\n",
    " \n",
    "S : starting point, safe\n",
    "F : frozen surface, safe\n",
    "H : hole, fall to your doom\n",
    "G : goal, where the frisbee is located\n",
    "\n",
    "The episode ends when you reach the goal or fall in a hole.\n",
    "You receive a reward of 1 if you reach the goal, and zero otherwise.\n",
    "\n",
    "This environment is stochastic. \n",
    "The probability of moving to the direction of the chosen action is 33.333%,\n",
    "the probability of moving to the perpendicular direction to the chosen action is 33.333%,\n",
    "and the probability of not moving at all is 33.333%."
   ]
  },
  {
   "cell_type": "markdown",
   "metadata": {},
   "source": [
    "### Code part\n",
    "\n",
    "Import all necessary function that will be use in this project"
   ]
  },
  {
   "cell_type": "code",
   "execution_count": 43,
   "metadata": {},
   "outputs": [],
   "source": [
    "# Import all necessary library\n",
    "import gym\n",
    "import numpy as np\n",
    "import time\n",
    "import random\n",
    "from bisect import bisect\n",
    "from IPython.display import clear_output\n",
    "import matplotlib.pyplot as plt"
   ]
  },
  {
   "cell_type": "markdown",
   "metadata": {},
   "source": [
    "## Define functions"
   ]
  },
  {
   "cell_type": "code",
   "execution_count": 70,
   "metadata": {},
   "outputs": [],
   "source": [
    "# Function for calculating probability of action by using epsilon-greedy\n",
    "def calculate_prob(env, max_action, epsilon):\n",
    "    action_prob=[]\n",
    "    maxcount=0\n",
    "    for a in range(env.action_space.n):\n",
    "        if(a == max_action):\n",
    "            prob=1-epsilon+(epsilon/env.action_space.n)\n",
    "            action_prob.append(prob)\n",
    "        else:\n",
    "            prob=epsilon/env.action_space.n\n",
    "            action_prob.append(prob)\n",
    "    \n",
    "    return action_prob\n",
    "\n",
    "# Function for randomizing choices with weighted probabilities\n",
    "def weighted_prob(choices):\n",
    "    values, weights = zip(*choices)\n",
    "    total = 0\n",
    "    cum_weights = []\n",
    "    for w in weights:\n",
    "        total += w\n",
    "        cum_weights.append(total)\n",
    "    x = random.random() * total\n",
    "    i = bisect(cum_weights, x)\n",
    "    return values[i]\n",
    "\n",
    "# Function for printing the current policy to the screen\n",
    "def print_policy(policy):\n",
    "    left = '←'\n",
    "    up = '↑'\n",
    "    down = '↓'\n",
    "    right = '→'\n",
    "    \n",
    "    string=\"\"\n",
    "    key=''\n",
    "    if(len(policy)==16):\n",
    "        for i in range(len(policy)):\n",
    "            if i not in (5,7,11,12,15):\n",
    "                if(policy[i]==0):\n",
    "                    key = left\n",
    "                elif(policy[i]==1):\n",
    "                    key = down\n",
    "                elif(policy[i]==2):\n",
    "                    key = right\n",
    "                elif(policy[i]==3):\n",
    "                    key = up\n",
    "            else:\n",
    "                if(i == 15):\n",
    "                    key = 'G'\n",
    "                else:\n",
    "                    key = 'H'\n",
    "            string = string+key\n",
    "            if(i%4 == 3):\n",
    "                print(string)\n",
    "                string=\"\"\n",
    "            \n",
    "    else:\n",
    "        for i in range(len(policy)):\n",
    "            if i not in (19,29,35,41,42,46,49,52,54,59,63):\n",
    "                if(policy[i]==0):\n",
    "                    key = left\n",
    "                elif(policy[i]==1):\n",
    "                    key = down\n",
    "                elif(policy[i]==2):\n",
    "                    key = right\n",
    "                elif(policy[i]==3):\n",
    "                    key = up\n",
    "            else:\n",
    "                if( i == 63):\n",
    "                    key = 'G'\n",
    "                else:\n",
    "                    key = 'H'\n",
    "            string = string+key\n",
    "            if(i%8 == 7):\n",
    "                print(string)\n",
    "                string=\"\"\n",
    "\n",
    "\n",
    "# This function acts greedily on the Q table to get the policy \n",
    "def get_optimal_policy(Q_table):\n",
    "    left = 0\n",
    "    up = 3\n",
    "    down = 1\n",
    "    right = 2\n",
    "    actions=[]\n",
    "    if(len(Q_table) == 16):\n",
    "        for state in range(len(Q_table)):\n",
    "            if state not in (5,7,11,12,15):\n",
    "                best_action = np.argmax(Q_table[state,:])\n",
    "                if(best_action==0):\n",
    "                    best_action = left\n",
    "                elif(best_action==1):\n",
    "                    best_action = down\n",
    "                elif(best_action==2):\n",
    "                    best_action = right\n",
    "                else:\n",
    "                    best_action = up\n",
    "            else:\n",
    "                if(state == 15):\n",
    "                    best_action = 'G'\n",
    "                else:\n",
    "                    best_action = 'H'\n",
    "\n",
    "            actions.append(best_action)\n",
    "    else:\n",
    "        for state in range(len(Q_table)):\n",
    "            if state not in (19,29,35,41,42,46,49,52,54,59,63):\n",
    "                best_action = np.argmax(Q_table[state,:])\n",
    "                if(best_action==0):\n",
    "                    best_action = left\n",
    "                elif(best_action==1):\n",
    "                    best_action = down\n",
    "                elif(best_action==2):\n",
    "                    best_action = right\n",
    "                else:\n",
    "                    best_action = up\n",
    "            else:\n",
    "                if(state == 63):\n",
    "                    best_action = 'G'\n",
    "                else:\n",
    "                    best_action = 'H'\n",
    "\n",
    "            actions.append(best_action)\n",
    "            \n",
    "    return actions\n",
    "\n",
    "\n",
    "# This function renders the agent interacting with the env under the input policy\n",
    "def test_policy(policy, env):\n",
    "    observation = env.reset()\n",
    "    env.render()\n",
    "    clear_output(wait=True)\n",
    "    done = False\n",
    "    while not done:\n",
    "        action = policy[observation]\n",
    "        observation, reward, done, info = env.step(action)\n",
    "        env.render()\n",
    "        if(done == True):\n",
    "            action = policy[observation]\n",
    "            if(action == 'H'):\n",
    "                print()\n",
    "                print(\"LOST\")\n",
    "                print(\"TRY AGAIN\")\n",
    "                break\n",
    "            elif(action == 'G'):\n",
    "                print()\n",
    "                print(\"WON\")\n",
    "                print(\"WELL DONE\")\n",
    "                break\n",
    "        clear_output(wait=True)\n",
    "        time.sleep(0.1)"
   ]
  },
  {
   "cell_type": "markdown",
   "metadata": {},
   "source": [
    "## 1. Sarsa(Lamda)"
   ]
  },
  {
   "cell_type": "code",
   "execution_count": 45,
   "metadata": {
    "scrolled": true
   },
   "outputs": [],
   "source": [
    "# Sarsa(Lambda)\n",
    "# Action space = [0:left,1:down,2:right,3:up]\n",
    "def Sarsa_Lambda(env, num_episodes=10000):\n",
    "    Q = np.zeros([env.observation_space.n,env.action_space.n]) # Action Value\n",
    "    E = np.zeros([env.observation_space.n,env.action_space.n]) # Eligibility Trace\n",
    "\n",
    "\n",
    "    # Set up parameters\n",
    "    EPSILON = 0.01\n",
    "    DELTA = 0\n",
    "    GAMMA = 1\n",
    "    ALPHA = 0.1\n",
    "    LAMBDA = 0.55\n",
    "\n",
    "    policy = dict(left=0.25,down=0.25,right=0.25,up=0.25)\n",
    "\n",
    "\n",
    "    win_history = []\n",
    "    num_win = 0\n",
    "    for episode in range( num_episodes ):\n",
    "    #     EPSILON = 1/(episode+1)\n",
    "        state = env.reset()\n",
    "        action = np.argmax(Q[state,:] + np.random.randn(1,env.action_space.n)*(1./(episode+1)))\n",
    "        done = False\n",
    "\n",
    "        while not done:\n",
    "            \n",
    "            next_state, reward, done, info = env.step(action) \n",
    "            \n",
    "            # Choose action from action-value function\n",
    "            max_action_next_state = np.argmax(Q[next_state,:] + np.random.randn(1,env.action_space.n)*(1./(episode+1)))\n",
    "            # Calculate the probability for selecting actions using epsilongreedy\n",
    "            action_probability=calculate_prob(env,max_action_next_state, EPSILON)\n",
    "            # Random select action base on previous probability \n",
    "            next_action=np.random.choice([0,1,2,3], p=action_probability)\n",
    "\n",
    "\n",
    "            DELTA = reward + GAMMA*Q[next_state, next_action] - Q[state, action]\n",
    "            E[state, action] = E[state, action] + 1\n",
    "            for each_state in range(env.observation_space.n):\n",
    "                for each_action in range(env.action_space.n):\n",
    "                    Q[each_state, each_action] = Q[each_state, each_action] + ALPHA*DELTA*E[each_state, each_action]\n",
    "                    E[each_state, each_action] = GAMMA*LAMBDA*E[each_state, each_action]\n",
    "\n",
    "            state = next_state\n",
    "            action = next_action\n",
    "\n",
    "\n",
    "        num_win = num_win+reward\n",
    "        win_history.append(num_win/(episode+1))\n",
    "    \n",
    "    policy = get_optimal_policy(Q)\n",
    "    \n",
    "    return policy, win_history[-1], win_history\n"
   ]
  },
  {
   "cell_type": "markdown",
   "metadata": {},
   "source": [
    "### 2. Sarsa(on-policy TD control)"
   ]
  },
  {
   "cell_type": "code",
   "execution_count": 46,
   "metadata": {},
   "outputs": [],
   "source": [
    "# Sarsa(on-policy TD control)\n",
    "# Action space = [0:left,1:down,2:right,3:up]\n",
    "\n",
    "def Sarsa_Normal(env, num_episodes=10000):\n",
    "    Q = np.zeros([env.observation_space.n,env.action_space.n]) # Action Value\n",
    "\n",
    "\n",
    "    # Set up parameters\n",
    "    EPSILON = 0.1\n",
    "    GAMMA = 1\n",
    "    ALPHA = 0.85\n",
    "\n",
    "    policy = dict()\n",
    "\n",
    "    win_history = []\n",
    "    num_win = 0\n",
    "    for episode in range( num_episodes ):\n",
    "        EPSILON = 1/(episode+1)\n",
    "        state = env.reset()\n",
    "        \n",
    "        \n",
    "        # Choose action from action-value function\n",
    "        max_action = np.argmax(Q[state,:] + np.random.randn(1,env.action_space.n)*(1./(episode+1)))\n",
    "        # Calculate the probability for selecting actions using epsilongreedy\n",
    "        action_probability=calculate_prob(env,max_action, EPSILON)\n",
    "        # Random select action base on previous probability \n",
    "        action = np.random.choice([0,1,2,3], p=action_probability)\n",
    "            \n",
    "        done = False\n",
    "\n",
    "        while not done:\n",
    "    #         env.render()\n",
    "\n",
    "            next_state, reward, done, info = env.step(action) \n",
    "\n",
    "            # Choose action from action-value function\n",
    "            max_action_next_state = np.argmax(Q[next_state,:] + np.random.randn(1,env.action_space.n)*(1./(episode+1)))\n",
    "            # Calculate the probability for selecting actions using epsilongreedy\n",
    "            action_probability=calculate_prob(env,max_action_next_state, EPSILON)\n",
    "            # Random select action base on previous probability \n",
    "            next_action=np.random.choice([0,1,2,3], p=action_probability)\n",
    "\n",
    "\n",
    "            Q[state, action] = Q[state, action] + ALPHA*(reward+GAMMA*Q[next_state, next_action] - Q[state, action])\n",
    "\n",
    "            state = next_state\n",
    "            action = next_action\n",
    "\n",
    "        num_win = num_win+reward\n",
    "        win_history.append(num_win/(episode+1))\n",
    "    \n",
    "    policy = get_optimal_policy(Q)\n",
    "    \n",
    "    return policy, win_history[-1], win_history\n",
    "        \n"
   ]
  },
  {
   "cell_type": "markdown",
   "metadata": {},
   "source": [
    "### 3. Q-Learning"
   ]
  },
  {
   "cell_type": "code",
   "execution_count": 47,
   "metadata": {},
   "outputs": [],
   "source": [
    "# Q_Learning (Off-policy TD Control)\n",
    "\n",
    "def Q_Learning(env, episode=10000):\n",
    "    # Load Environment from Gym and initial action-value function table\n",
    "    Q = np.zeros([env.observation_space.n,env.action_space.n])\n",
    "\n",
    "    win_history=[]\n",
    "    alpha = .68\n",
    "    gamma = .9\n",
    "    retern_list = [] # rewards per episode calculate\n",
    "    reach_goal_count=0\n",
    "\n",
    "\n",
    "    for i in range(episode):\n",
    "        # Calculate epsilon for using in epsilon-greedy\n",
    "        epsilon=1/(i+1)\n",
    "\n",
    "        # Reset environment\n",
    "        s = env.reset()\n",
    "\n",
    "        reward = 0\n",
    "        d = False\n",
    "        j = 0\n",
    "        goal=(int)(env.observation_space.n)-1\n",
    "        # The Q-learning algorithm\n",
    "        # Loop until reach the goal\n",
    "        while(s!=goal):\n",
    "\n",
    "    #         env.render()\n",
    "            j+=1\n",
    "\n",
    "            # Choose action from action-value function\n",
    "            max_a = np.argmax(Q[s,:] + np.random.randn(1,env.action_space.n)*(1./(i+1)))\n",
    "            # Calculate the probability for selecting actions using epsilongreedy\n",
    "            action_probability=calculate_prob(env,max_a, epsilon)\n",
    "            # Random select action base on previous probability \n",
    "            a=np.random.choice([0,1,2,3], p=action_probability)\n",
    "\n",
    "            # Take action and get new state & reward from environment\n",
    "            s1,r,d,_ = env.step(a)\n",
    "\n",
    "            #Update the action-valuse function\n",
    "            Q[s,a] = Q[s,a] + alpha*(r + gamma*np.max(Q[s1,:]) - Q[s,a])\n",
    "            reward += r\n",
    "            if(s1==goal):\n",
    "                reach_goal_count+=1\n",
    "            s = s1\n",
    "            if d == True:\n",
    "                break\n",
    "\n",
    "\n",
    "        # Collect win history        \n",
    "        win_history.append(reach_goal_count/(i+1))      \n",
    "        retern_list.append(reward)\n",
    "        \n",
    "    policy = get_optimal_policy(Q)\n",
    "    \n",
    "    return policy, win_history[-1], win_history \n",
    "       \n"
   ]
  },
  {
   "cell_type": "markdown",
   "metadata": {},
   "source": [
    "### 4. MC Control"
   ]
  },
  {
   "cell_type": "code",
   "execution_count": 48,
   "metadata": {},
   "outputs": [],
   "source": [
    "# MC Control\n",
    "\n",
    "# Function to generate random policy at initial        \n",
    "def generate_random_policy(env):\n",
    "    policy = {}\n",
    "    for key in range(0, env.observation_space.n):\n",
    "        current_end = 0\n",
    "        p = {}\n",
    "        for action in range(0, env.action_space.n):\n",
    "            p[action] = 1 / env.action_space.n\n",
    "        policy[key] = p\n",
    "\n",
    "    return policy   \n",
    "\n",
    "# Function to generate each episode\n",
    "def generate_episode(env, policy):\n",
    "    env.reset()\n",
    "    episode = []\n",
    "    finished = False\n",
    "    \n",
    "    while not finished:\n",
    "        s = env.env.s\n",
    "        timestep = []\n",
    "        n = random.uniform(0, sum(policy[s].values()))\n",
    "        top_range = 0\n",
    "\n",
    "        for prob in policy[s].items():\n",
    "            top_range += prob[1]\n",
    "            if n < top_range:\n",
    "                action = prob[0]\n",
    "                break   \n",
    "        \n",
    "        state, reward, finished, info =  env.step(action)\n",
    "        timestep.append(state)\n",
    "        timestep.append(action)\n",
    "        timestep.append(reward)\n",
    "        \n",
    "        \n",
    "        episode.append(timestep)\n",
    "\n",
    "    return episode\n",
    "\n",
    "# Function to evaluate the final policy\n",
    "def evaluate_policy(policy,env):\n",
    "    wins = 0\n",
    "    r = 20000\n",
    "    win_history=[]\n",
    "    for i in range(r):\n",
    "        w = generate_episode(env, policy)[-1][0]\n",
    "        if w == env.observation_space.n-1:\n",
    "            wins += 1\n",
    "        win_history.append(wins/r)\n",
    "        \n",
    "    plt.plot(win_history)\n",
    "    plt.axis([0, r, 0, 1.1])\n",
    "    plt.show()\n",
    "    print(\"Win rate of MC Control algorithm is \",win_history[r-1],\" with running\",r,\" episodes\")\n",
    "    \n",
    "def get_MC_policy(policy):\n",
    "    max_action=[]\n",
    "    for i in policy.items():\n",
    "#         print(i[1])\n",
    "        max_value=max(i[1].values())\n",
    "        for j in i[1].items():\n",
    "            if(j[1]==max_value):\n",
    "                max_action.append(j[0])\n",
    "                break\n",
    "    return(max_action)\n",
    "\n",
    "def MC_Control(env, episode=10000):\n",
    "    Q = np.zeros([env.observation_space.n,env.action_space.n])\n",
    "\n",
    "    # env.obeservation.n, env.action_space.n gives number of states and action in env loaded\n",
    "    # Defind an important parameters \n",
    "    win_history=[]\n",
    "    retern_list = [] # rewards per episode calculate\n",
    "    reach_goal_count=0\n",
    "\n",
    "    policy = generate_random_policy(env)\n",
    "    returns={}\n",
    "\n",
    "    num_win= 0\n",
    "    for i in range(episode):\n",
    "        # Calculate epsilon for using in epsilon-greedy\n",
    "        epsilon=1/(i+1)\n",
    "\n",
    "        G=0\n",
    "        this_episode=generate_episode(env, policy)\n",
    "        # Reset environment\n",
    "        s = env.reset()\n",
    "\n",
    "\n",
    "        for j in reversed(range(0, len(this_episode))): # 7.\n",
    "                s, a, r = this_episode[j] # 8. \n",
    "                state_action = (s, a)\n",
    "                G += r\n",
    "\n",
    "                if not state_action in [(x[0], x[1]) for x in this_episode[0:j]]: # 10.\n",
    "                    if returns.get(state_action):\n",
    "                        returns[state_action].append(G)\n",
    "                    else:\n",
    "                        returns[state_action] = [G]   \n",
    "\n",
    "                    Q[s,a] = sum(returns[state_action]) / len(returns[state_action])\n",
    "\n",
    "                    # Choose action from action-value function\n",
    "                    max_a = np.argmax(Q[s,:] + np.random.randn(1,env.action_space.n)*(1./(j+1)))\n",
    "                    # Calculate the probability for selecting actions using epsilongreedy\n",
    "\n",
    "                    for a in policy[s].items(): # 15.\n",
    "                        if a[0] == max_a:\n",
    "                            policy[s][a[0]] = 1 - epsilon + (epsilon / env.action_space.n)\n",
    "                        else:\n",
    "                            policy[s][a[0]] = (epsilon / env.action_space.n)\n",
    "\n",
    "        num_win = num_win+this_episode[-1][-1]\n",
    "        win_history.append((num_win/(i+1)))\n",
    "    policy = get_MC_policy(policy)    \n",
    "    return policy, win_history[-1], win_history"
   ]
  },
  {
   "cell_type": "markdown",
   "metadata": {},
   "source": [
    "### Implement all algorithm"
   ]
  },
  {
   "cell_type": "code",
   "execution_count": 76,
   "metadata": {},
   "outputs": [
    {
     "name": "stdout",
     "output_type": "stream",
     "text": [
      "DONE\n"
     ]
    }
   ],
   "source": [
    "env1a = gym.make('FrozenLake-v0')\n",
    "policy1a, win_rate1a, win_history1a = Sarsa_Lambda(env1a, 20000)\n",
    "print(\"DONE\")"
   ]
  },
  {
   "cell_type": "code",
   "execution_count": 77,
   "metadata": {},
   "outputs": [
    {
     "name": "stdout",
     "output_type": "stream",
     "text": [
      "DONE\n"
     ]
    }
   ],
   "source": [
    "env1b = gym.make('FrozenLake8x8-v0')\n",
    "policy1b, win_rate1b, win_history1b = Sarsa_Lambda(env1b, 20000)\n",
    "print(\"DONE\")"
   ]
  },
  {
   "cell_type": "code",
   "execution_count": 78,
   "metadata": {},
   "outputs": [
    {
     "name": "stdout",
     "output_type": "stream",
     "text": [
      "DONE\n"
     ]
    }
   ],
   "source": [
    "env2a = gym.make('FrozenLake-v0')\n",
    "policy2a, win_rate2a, win_history2a = Sarsa_Normal(env2a, 20000)\n",
    "print(\"DONE\")"
   ]
  },
  {
   "cell_type": "code",
   "execution_count": 79,
   "metadata": {},
   "outputs": [
    {
     "name": "stdout",
     "output_type": "stream",
     "text": [
      "DONE\n"
     ]
    }
   ],
   "source": [
    "env2b = gym.make('FrozenLake8x8-v0')\n",
    "policy2b, win_rate2b, win_history2b = Sarsa_Normal(env2b, 20000)\n",
    "print(\"DONE\")"
   ]
  },
  {
   "cell_type": "code",
   "execution_count": 80,
   "metadata": {},
   "outputs": [
    {
     "name": "stdout",
     "output_type": "stream",
     "text": [
      "DONE\n"
     ]
    }
   ],
   "source": [
    "env3a = gym.make('FrozenLake-v0')\n",
    "policy3a, win_rate3a, win_history3a = Q_Learning(env3a, 20000)\n",
    "print(\"DONE\")"
   ]
  },
  {
   "cell_type": "code",
   "execution_count": 81,
   "metadata": {},
   "outputs": [
    {
     "name": "stdout",
     "output_type": "stream",
     "text": [
      "DONE\n"
     ]
    }
   ],
   "source": [
    "env3b = gym.make('FrozenLake8x8-v0')\n",
    "policy3b, win_rate3b, win_history3b = Q_Learning(env3b, 20000)\n",
    "print(\"DONE\")"
   ]
  },
  {
   "cell_type": "code",
   "execution_count": 82,
   "metadata": {},
   "outputs": [
    {
     "name": "stdout",
     "output_type": "stream",
     "text": [
      "DONE\n"
     ]
    }
   ],
   "source": [
    "env4a = gym.make('FrozenLake-v0')\n",
    "policy4a, win_rate4a, win_history4a = MC_Control(env4a, 20000)\n",
    "print(\"DONE\")"
   ]
  },
  {
   "cell_type": "code",
   "execution_count": 83,
   "metadata": {},
   "outputs": [
    {
     "name": "stdout",
     "output_type": "stream",
     "text": [
      "DONE\n"
     ]
    }
   ],
   "source": [
    "env4b = gym.make('FrozenLake8x8-v0')\n",
    "policy4b, win_rate4b, win_history4b = MC_Control(env4b, 20000)\n",
    "print(\"DONE\")"
   ]
  },
  {
   "cell_type": "code",
   "execution_count": 73,
   "metadata": {},
   "outputs": [
    {
     "name": "stdout",
     "output_type": "stream",
     "text": [
      "  (Up)\n",
      "SFFF\n",
      "F\u001b[41mH\u001b[0mFH\n",
      "FFFH\n",
      "HFFG\n"
     ]
    }
   ],
   "source": [
    "test_policy(policy4a,env4a)"
   ]
  },
  {
   "cell_type": "markdown",
   "metadata": {},
   "source": [
    "# Performance Comparison"
   ]
  },
  {
   "cell_type": "markdown",
   "metadata": {},
   "source": [
    "# 4x4 Grid"
   ]
  },
  {
   "cell_type": "code",
   "execution_count": 96,
   "metadata": {},
   "outputs": [
    {
     "name": "stdout",
     "output_type": "stream",
     "text": [
      "4x4 Sarsa(Lambda) Win Rate : 0.543\n",
      "4x4 Normal Sarsa Win Rate : 0.69695\n",
      "4x4 Q-Learning Win Rate : 0.60055\n",
      "4x4 MC Control Win Rate : 0.02495\n"
     ]
    }
   ],
   "source": [
    "print(\"4x4 Sarsa(Lambda) Win Rate : \"+str(win_rate1a))\n",
    "print(\"4x4 Normal Sarsa Win Rate : \"+str(win_rate2a))\n",
    "print(\"4x4 Q-Learning Win Rate : \"+str(win_rate3a))\n",
    "print(\"4x4 MC Control Win Rate : \"+str(win_rate4a))"
   ]
  },
  {
   "cell_type": "code",
   "execution_count": 94,
   "metadata": {},
   "outputs": [
    {
     "data": {
      "image/png": "[encoded data removed]",
      "text/plain": [
       "<Figure size 432x288 with 1 Axes>"
      ]
     },
     "metadata": {},
     "output_type": "display_data"
    }
   ],
   "source": [
    "plt.plot(win_history1a,'r')\n",
    "plt.plot(win_history2a,'b')\n",
    "plt.plot(win_history3a,'g')\n",
    "plt.plot(win_history4a,'black')\n",
    "plt.ylabel('Win Rate')\n",
    "plt.xlabel('Number of Episodes')\n",
    "plt.show()"
   ]
  },
  {
   "cell_type": "raw",
   "metadata": {},
   "source": [
    "4x4 Grid\n",
    "Blue = Normal Sarsa \n",
    "Green = Q-Learning \n",
    "Red = Sarsa(Lambda) \n",
    "Black = MC Control"
   ]
  },
  {
   "cell_type": "code",
   "execution_count": 98,
   "metadata": {},
   "outputs": [
    {
     "name": "stdout",
     "output_type": "stream",
     "text": [
      "  (Down)\n",
      "SFFF\n",
      "FHFH\n",
      "FFFH\n",
      "HFF\u001b[41mG\u001b[0m\n",
      "\n",
      "WON\n",
      "WELL DONE\n"
     ]
    }
   ],
   "source": [
    "# 4x4 Sarsa(Lambda)\n",
    "test_policy(policy1a,env1a)"
   ]
  },
  {
   "cell_type": "code",
   "execution_count": 99,
   "metadata": {},
   "outputs": [
    {
     "name": "stdout",
     "output_type": "stream",
     "text": [
      "  (Down)\n",
      "SFFF\n",
      "FHFH\n",
      "FFFH\n",
      "HFF\u001b[41mG\u001b[0m\n",
      "\n",
      "WON\n",
      "WELL DONE\n"
     ]
    }
   ],
   "source": [
    "# 4x4 Normal Sarsa\n",
    "test_policy(policy2a,env2a)"
   ]
  },
  {
   "cell_type": "code",
   "execution_count": 105,
   "metadata": {},
   "outputs": [
    {
     "name": "stdout",
     "output_type": "stream",
     "text": [
      "  (Down)\n",
      "SFFF\n",
      "FHFH\n",
      "FFFH\n",
      "HFF\u001b[41mG\u001b[0m\n",
      "\n",
      "WON\n",
      "WELL DONE\n"
     ]
    }
   ],
   "source": [
    "# 4x4 Q-Learning\n",
    "test_policy(policy3a,env3a)"
   ]
  },
  {
   "cell_type": "code",
   "execution_count": 104,
   "metadata": {},
   "outputs": [
    {
     "name": "stdout",
     "output_type": "stream",
     "text": [
      "  (Left)\n",
      "SFFF\n",
      "F\u001b[41mH\u001b[0mFH\n",
      "FFFH\n",
      "HFFG\n"
     ]
    }
   ],
   "source": [
    "# 4x4 MC Control\n",
    "test_policy(policy4a,env4a)"
   ]
  },
  {
   "cell_type": "markdown",
   "metadata": {},
   "source": [
    "# 8x8 Grid"
   ]
  },
  {
   "cell_type": "code",
   "execution_count": 97,
   "metadata": {},
   "outputs": [
    {
     "name": "stdout",
     "output_type": "stream",
     "text": [
      "8x8 Sarsa(Lambda) Win Rate : 0.35035\n",
      "8x8 Normal Sarsa Win Rate : 0.39935\n",
      "8x8 Q-Learning Win Rate : 0.60805\n",
      "8x8 MC Control Win Rate : 0.2461\n"
     ]
    }
   ],
   "source": [
    "print(\"8x8 Sarsa(Lambda) Win Rate : \"+str(win_rate1b))\n",
    "print(\"8x8 Normal Sarsa Win Rate : \"+str(win_rate2b))\n",
    "print(\"8x8 Q-Learning Win Rate : \"+str(win_rate3b))\n",
    "print(\"8x8 MC Control Win Rate : \"+str(win_rate4b))"
   ]
  },
  {
   "cell_type": "code",
   "execution_count": 95,
   "metadata": {},
   "outputs": [
    {
     "data": {
      "image/png": "[encoded data removed]",
      "text/plain": [
       "<Figure size 432x288 with 1 Axes>"
      ]
     },
     "metadata": {},
     "output_type": "display_data"
    }
   ],
   "source": [
    "plt.plot(win_history1b,'r')\n",
    "plt.plot(win_history2b,'b')\n",
    "plt.plot(win_history3b,'g')\n",
    "plt.plot(win_history4b,'black')\n",
    "plt.ylabel('Win Rate')\n",
    "plt.xlabel('Number of Episodes')\n",
    "plt.show()"
   ]
  },
  {
   "cell_type": "raw",
   "metadata": {},
   "source": [
    "8x8 Grid\n",
    "Blue = Normal Sarsa \n",
    "Green = Q-Learning \n",
    "Red = Sarsa(Lambda) \n",
    "Black = MC Control"
   ]
  },
  {
   "cell_type": "code",
   "execution_count": 106,
   "metadata": {},
   "outputs": [
    {
     "name": "stdout",
     "output_type": "stream",
     "text": [
      "  (Right)\n",
      "SFFFFFFF\n",
      "FFFFFFFF\n",
      "FFFHFFFF\n",
      "FFFFFHFF\n",
      "FFFHFFFF\n",
      "FHHFFFHF\n",
      "FHFFHFHF\n",
      "FFFHFFF\u001b[41mG\u001b[0m\n",
      "\n",
      "WON\n",
      "WELL DONE\n"
     ]
    }
   ],
   "source": [
    "# 8x8 Sarsa(Lambda)\n",
    "test_policy(policy1b,env1b)"
   ]
  },
  {
   "cell_type": "code",
   "execution_count": 107,
   "metadata": {},
   "outputs": [
    {
     "name": "stdout",
     "output_type": "stream",
     "text": [
      "  (Up)\n",
      "SFFFFFFF\n",
      "\u001b[41mF\u001b[0mFFFFFFF\n",
      "FFFHFFFF\n",
      "FFFFFHFF\n",
      "FFFHFFFF\n",
      "FHHFFFHF\n",
      "FHFFHFHF\n",
      "FFFHFFFG\n"
     ]
    }
   ],
   "source": [
    "# 8x8 Normal Sarsa\n",
    "test_policy(policy2b,env2b)"
   ]
  },
  {
   "cell_type": "code",
   "execution_count": 108,
   "metadata": {},
   "outputs": [
    {
     "name": "stdout",
     "output_type": "stream",
     "text": [
      "  (Right)\n",
      "SFFFFFFF\n",
      "FFFFFFFF\n",
      "FFFHFFFF\n",
      "FFFFFHFF\n",
      "FFFHFFFF\n",
      "FHHFFFHF\n",
      "FHFFHFHF\n",
      "FFFHFFF\u001b[41mG\u001b[0m\n",
      "\n",
      "WON\n",
      "WELL DONE\n"
     ]
    }
   ],
   "source": [
    "# 8x8 Q-Learning\n",
    "test_policy(policy3b,env3b)"
   ]
  },
  {
   "cell_type": "code",
   "execution_count": 110,
   "metadata": {},
   "outputs": [
    {
     "name": "stdout",
     "output_type": "stream",
     "text": [
      "  (Right)\n",
      "SFFFFFFF\n",
      "FFFFFFFF\n",
      "FFFHFFFF\n",
      "FFFFFHFF\n",
      "FFFHFFFF\n",
      "FHHFFFHF\n",
      "FHFFHFHF\n",
      "FFFHFFF\u001b[41mG\u001b[0m\n"
     ]
    }
   ],
   "source": [
    "# 8x8 MC Control\n",
    "test_policy(policy4b,env4b)"
   ]
  },
  {
   "cell_type": "markdown",
   "metadata": {},
   "source": [
    "# Summary"
   ]
  },
  {
   "cell_type": "raw",
   "metadata": {},
   "source": [
    "For the 4x4 Grid, the Normal Sarsa Algorithm is the best one. It learns relatively faster than the others and yields the highest win rate. The Sarsa(Lambda) and Q-Learning Algorithms are a little less impressive. Their final win rates are satisfying, but they fluctuate and their growth rates are slower when compared to the Normal Sarsa Algorithm. The Sarsa(Lambda) Algorithm even fluctuates more in the beginning when compared to the other two, but when it is run for around 2500 episodes, the performance starts to boost interestingly, and the its trend after 2500 episodes turns out to be similar to the Normal Sarsa's trend. The worst algorithm here turns out to be the MC Control Algorithm. The agent does not seem to learn anything under this algorithm and under this environment. \n",
    "For the 8x8 Grid, the most outstanding algorithm is the Q-Learning Algorithm. It learns a little slower than the Normal Sarsa in the beginning, but then the win rate is boosted and finally turns out to be far higher than the others'. The Normal Sarsa and Sarsa(Lambda) performaces are quite similar to each other. Their win rates fluctuate along the way and their final win rates are a little bit different. The most interesting algorithm here turns out to be the MC Control Algorithm which performs terribly in the 4x4 Grid. This time, it performs quite well. The win rate slowly rises without fluctuation, and very likely to continue rising even higher if more episodes are conducted. "
   ]
  },
  {
   "cell_type": "markdown",
   "metadata": {},
   "source": [
    "# Learnings Gained From The Project"
   ]
  },
  {
   "cell_type": "markdown",
   "metadata": {},
   "source": [
    "From our project, we learnt that the performance of each algorithm depends on not only the adjusted parameters but also the pattern and the size of the environment. The same algorithm may behave differently under the same environment with different sizes. An algorithm that performs best on one environment may perform not as good on the others."
   ]
  },
  {
   "cell_type": "markdown",
   "metadata": {},
   "source": [
    "# Knowledge Sources"
   ]
  },
  {
   "cell_type": "markdown",
   "metadata": {},
   "source": [
    "https://medium.com/emergent-future/simple-reinforcement-learning-with-tensorflow-part-0-q-learning-with-tables-and-neural-networks-d195264329d0\n",
    "    \n",
    "https://harderchoices.com/2018/04/04/monte-carlo-method-in-python/\n",
    "\n",
    "https://towardsdatascience.com/reinforcement-learning-with-openai-d445c2c687d2\n",
    "\n",
    "http://deeplizard.com/learn/video/HGeI30uATws\n"
   ]
  },
  {
   "cell_type": "markdown",
   "metadata": {},
   "source": [
    "# Members"
   ]
  },
  {
   "cell_type": "markdown",
   "metadata": {},
   "source": [
    "Sakpat Sirikanerat 1900549"
   ]
  },
  {
   "cell_type": "markdown",
   "metadata": {},
   "source": [
    "Nuttapol Saiboonrue 1900552"
   ]
  },
  {
   "cell_type": "code",
   "execution_count": null,
   "metadata": {},
   "outputs": [],
   "source": []
  }
 ],
 "metadata": {
  "kernelspec": {
   "display_name": "Python 3",
   "language": "python",
   "name": "python3"
  },
  "language_info": {
   "codemirror_mode": {
    "name": "ipython",
    "version": 3
   },
   "file_extension": ".py",
   "mimetype": "text/x-python",
   "name": "python",
   "nbconvert_exporter": "python",
   "pygments_lexer": "ipython3",
   "version": "3.6.7"
  }
 },
 "nbformat": 4,
 "nbformat_minor": 2
}
